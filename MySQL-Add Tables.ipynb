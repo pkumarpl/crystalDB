{
 "cells": [
  {
   "cell_type": "code",
   "execution_count": 61,
   "metadata": {
    "collapsed": true
   },
   "outputs": [],
   "source": [
    "from sqlalchemy import create_engine, MetaData\n",
    "from sqlalchemy import Table, Column, CHAR, Date, String, Integer, Float, DateTime, ForeignKeyConstraint\n",
    "from sqlalchemy import insert\n",
    "\n",
    "import pandas as pd\n",
    "from IPython.display import display"
   ]
  },
  {
   "cell_type": "code",
   "execution_count": 62,
   "metadata": {
    "collapsed": true
   },
   "outputs": [],
   "source": [
    "# CONNECTING TO MYSQL -> DATABASE\n",
    "connectionString = 'mysql+pymysql://@localhost/crystaldb2'\n",
    "engine = create_engine(connectionString)\n",
    "connection = engine.connect()\n",
    "metadata = MetaData()"
   ]
  },
  {
   "cell_type": "code",
   "execution_count": 63,
   "metadata": {
    "collapsed": true
   },
   "outputs": [],
   "source": [
    "# EXCTRACTING STRUCTURE OF THE TABLES\n",
    "material = Table('material', metadata, autoload=True, autoload_with=engine)\n",
    "solvent = Table('solvent', metadata, autoload=True, autoload_with=engine)"
   ]
  },
  {
   "cell_type": "code",
   "execution_count": 64,
   "metadata": {
    "collapsed": true
   },
   "outputs": [],
   "source": [
    "# # AUTOINCREMENT?\n",
    "# stmt = insert(material)\n",
    "# values_list = material_csv.to_dict(orient='records')\n",
    "# materialID = list([None]*material_csv.shape[0])\n",
    "# material_csv.insert(loc = 0, column = 'materialID', value = materialID)\n",
    "# display(material_csv)"
   ]
  },
  {
   "cell_type": "code",
   "execution_count": 65,
   "metadata": {
    "collapsed": true
   },
   "outputs": [],
   "source": [
    "###################\n",
    "# MATERIAL TABLE\n",
    "###################"
   ]
  },
  {
   "cell_type": "code",
   "execution_count": 66,
   "metadata": {},
   "outputs": [
    {
     "name": "stdout",
     "output_type": "stream",
     "text": [
      "(152, 7)\n"
     ]
    },
    {
     "data": {
      "text/html": [
       "<div>\n",
       "<style>\n",
       "    .dataframe thead tr:only-child th {\n",
       "        text-align: right;\n",
       "    }\n",
       "\n",
       "    .dataframe thead th {\n",
       "        text-align: left;\n",
       "    }\n",
       "\n",
       "    .dataframe tbody tr th {\n",
       "        vertical-align: top;\n",
       "    }\n",
       "</style>\n",
       "<table border=\"1\" class=\"dataframe\">\n",
       "  <thead>\n",
       "    <tr style=\"text-align: right;\">\n",
       "      <th></th>\n",
       "      <th>solventName</th>\n",
       "      <th>chemicalFormula</th>\n",
       "      <th>canonicalSmile</th>\n",
       "      <th>casNumber</th>\n",
       "      <th>productNumber</th>\n",
       "      <th>supplier</th>\n",
       "    </tr>\n",
       "  </thead>\n",
       "  <tbody>\n",
       "    <tr>\n",
       "      <th>0</th>\n",
       "      <td>Acetonitrile</td>\n",
       "      <td>C2H3N</td>\n",
       "      <td>CC#N</td>\n",
       "      <td>75-05-8</td>\n",
       "      <td>271004</td>\n",
       "      <td>Aldrich</td>\n",
       "    </tr>\n",
       "    <tr>\n",
       "      <th>1</th>\n",
       "      <td>Acetone</td>\n",
       "      <td>CH3COCH3</td>\n",
       "      <td>CC(=O)C</td>\n",
       "      <td>67-64-1</td>\n",
       "      <td>439126</td>\n",
       "      <td>Aldrich</td>\n",
       "    </tr>\n",
       "    <tr>\n",
       "      <th>2</th>\n",
       "      <td>Anisole</td>\n",
       "      <td>C7H8O</td>\n",
       "      <td>COC1=CC=CC=C1</td>\n",
       "      <td>100-66-3</td>\n",
       "      <td>96109</td>\n",
       "      <td>Aldrich</td>\n",
       "    </tr>\n",
       "    <tr>\n",
       "      <th>3</th>\n",
       "      <td>Dichloromethane</td>\n",
       "      <td>CH2Cl2</td>\n",
       "      <td>C(Cl)Cl</td>\n",
       "      <td>75-09-2</td>\n",
       "      <td>270997</td>\n",
       "      <td>Aldrich</td>\n",
       "    </tr>\n",
       "    <tr>\n",
       "      <th>4</th>\n",
       "      <td>Benzene</td>\n",
       "      <td>C6H6</td>\n",
       "      <td>C1=CC=CC=C1</td>\n",
       "      <td>71-43-2</td>\n",
       "      <td>401765</td>\n",
       "      <td>Aldrich</td>\n",
       "    </tr>\n",
       "  </tbody>\n",
       "</table>\n",
       "</div>"
      ],
      "text/plain": [
       "       solventName chemicalFormula canonicalSmile casNumber productNumber  \\\n",
       "0     Acetonitrile           C2H3N           CC#N   75-05-8        271004   \n",
       "1          Acetone        CH3COCH3        CC(=O)C   67-64-1        439126   \n",
       "2          Anisole           C7H8O  COC1=CC=CC=C1  100-66-3         96109   \n",
       "3  Dichloromethane          CH2Cl2        C(Cl)Cl   75-09-2        270997   \n",
       "4          Benzene            C6H6    C1=CC=CC=C1   71-43-2        401765   \n",
       "\n",
       "  supplier  \n",
       "0  Aldrich  \n",
       "1  Aldrich  \n",
       "2  Aldrich  \n",
       "3  Aldrich  \n",
       "4  Aldrich  "
      ]
     },
     "metadata": {},
     "output_type": "display_data"
    }
   ],
   "source": [
    "material_csv = pd.read_csv(filepath_or_buffer = \"material2.csv\", sep = \";\")\n",
    "print(material_csv.shape)\n",
    "display(solvent_csv.head())"
   ]
  },
  {
   "cell_type": "code",
   "execution_count": 67,
   "metadata": {},
   "outputs": [
    {
     "name": "stdout",
     "output_type": "stream",
     "text": [
      "compoundName 47\n",
      "chemicalFormula 12\n",
      "canonicalSmile 208\n",
      "type 14\n",
      "casNumber 11\n",
      "productNumber 11\n",
      "supplier 13\n"
     ]
    }
   ],
   "source": [
    "for i in material_csv.columns:\n",
    "    print(i, max(material_csv[i].apply(lambda x: len(str(x)))))"
   ]
  },
  {
   "cell_type": "code",
   "execution_count": 68,
   "metadata": {},
   "outputs": [
    {
     "name": "stdout",
     "output_type": "stream",
     "text": [
      "Inserted rows:  152\n"
     ]
    }
   ],
   "source": [
    "stmt = insert(material)\n",
    "\n",
    "values_list = []\n",
    "total_rowcount = 0\n",
    "import csv\n",
    "with open('material2.csv', 'r') as csvfile:\n",
    "    material_reader = csv.reader(csvfile, delimiter = \";\")\n",
    "    next(material_reader, None)  # SKIP THE HEADER\n",
    "\n",
    "    # LOOP ON EACH ROW\n",
    "    for row in material_reader: # WITHOUT COLUMN NAMES\n",
    "        data = {'compoundName': row[0], \n",
    "                'chemicalFormula': row[1], \n",
    "                'canonicalSmile': row[2], \n",
    "                'type': row[3], \n",
    "                'casNumber': row[4], \n",
    "                'productNumber': row[5], \n",
    "                 'supplier': row[6]}\n",
    "        values_list.append(data)\n",
    "\n",
    "# INSERT data INTO DATABASE\n",
    "results = connection.execute(stmt, values_list)\n",
    "del(stmt, values_list, total_rowcount)\n",
    "# TOTAL ROWCOUNTs\n",
    "print(\"Inserted rows: \", results.rowcount)"
   ]
  },
  {
   "cell_type": "code",
   "execution_count": 69,
   "metadata": {},
   "outputs": [],
   "source": [
    "# # DELETE ALL ROWS\n",
    "# result = connection.execute(\"DELETE FROM material\")\n",
    "# print(\"Deleted rows:\", result.rowcount)\n",
    "# connection.execute(\"ALTER TABLE `material` AUTO_INCREMENT = 1;\") # AUTO_INCREMENT WILL START FROM 1"
   ]
  },
  {
   "cell_type": "code",
   "execution_count": 70,
   "metadata": {
    "collapsed": true
   },
   "outputs": [],
   "source": [
    "###################\n",
    "# SOLVENT TABLE\n",
    "###################"
   ]
  },
  {
   "cell_type": "code",
   "execution_count": 71,
   "metadata": {},
   "outputs": [
    {
     "name": "stdout",
     "output_type": "stream",
     "text": [
      "(37, 6)\n"
     ]
    },
    {
     "data": {
      "text/html": [
       "<div>\n",
       "<style>\n",
       "    .dataframe thead tr:only-child th {\n",
       "        text-align: right;\n",
       "    }\n",
       "\n",
       "    .dataframe thead th {\n",
       "        text-align: left;\n",
       "    }\n",
       "\n",
       "    .dataframe tbody tr th {\n",
       "        vertical-align: top;\n",
       "    }\n",
       "</style>\n",
       "<table border=\"1\" class=\"dataframe\">\n",
       "  <thead>\n",
       "    <tr style=\"text-align: right;\">\n",
       "      <th></th>\n",
       "      <th>solventName</th>\n",
       "      <th>chemicalFormula</th>\n",
       "      <th>canonicalSmile</th>\n",
       "      <th>casNumber</th>\n",
       "      <th>productNumber</th>\n",
       "      <th>supplier</th>\n",
       "    </tr>\n",
       "  </thead>\n",
       "  <tbody>\n",
       "    <tr>\n",
       "      <th>0</th>\n",
       "      <td>Acetonitrile</td>\n",
       "      <td>C2H3N</td>\n",
       "      <td>CC#N</td>\n",
       "      <td>75-05-8</td>\n",
       "      <td>271004</td>\n",
       "      <td>Aldrich</td>\n",
       "    </tr>\n",
       "    <tr>\n",
       "      <th>1</th>\n",
       "      <td>Acetone</td>\n",
       "      <td>CH3COCH3</td>\n",
       "      <td>CC(=O)C</td>\n",
       "      <td>67-64-1</td>\n",
       "      <td>439126</td>\n",
       "      <td>Aldrich</td>\n",
       "    </tr>\n",
       "    <tr>\n",
       "      <th>2</th>\n",
       "      <td>Anisole</td>\n",
       "      <td>C7H8O</td>\n",
       "      <td>COC1=CC=CC=C1</td>\n",
       "      <td>100-66-3</td>\n",
       "      <td>96109</td>\n",
       "      <td>Aldrich</td>\n",
       "    </tr>\n",
       "    <tr>\n",
       "      <th>3</th>\n",
       "      <td>Dichloromethane</td>\n",
       "      <td>CH2Cl2</td>\n",
       "      <td>C(Cl)Cl</td>\n",
       "      <td>75-09-2</td>\n",
       "      <td>270997</td>\n",
       "      <td>Aldrich</td>\n",
       "    </tr>\n",
       "    <tr>\n",
       "      <th>4</th>\n",
       "      <td>Benzene</td>\n",
       "      <td>C6H6</td>\n",
       "      <td>C1=CC=CC=C1</td>\n",
       "      <td>71-43-2</td>\n",
       "      <td>401765</td>\n",
       "      <td>Aldrich</td>\n",
       "    </tr>\n",
       "  </tbody>\n",
       "</table>\n",
       "</div>"
      ],
      "text/plain": [
       "       solventName chemicalFormula canonicalSmile casNumber productNumber  \\\n",
       "0     Acetonitrile           C2H3N           CC#N   75-05-8        271004   \n",
       "1          Acetone        CH3COCH3        CC(=O)C   67-64-1        439126   \n",
       "2          Anisole           C7H8O  COC1=CC=CC=C1  100-66-3         96109   \n",
       "3  Dichloromethane          CH2Cl2        C(Cl)Cl   75-09-2        270997   \n",
       "4          Benzene            C6H6    C1=CC=CC=C1   71-43-2        401765   \n",
       "\n",
       "  supplier  \n",
       "0  Aldrich  \n",
       "1  Aldrich  \n",
       "2  Aldrich  \n",
       "3  Aldrich  \n",
       "4  Aldrich  "
      ]
     },
     "metadata": {},
     "output_type": "display_data"
    }
   ],
   "source": [
    "solvent_csv = pd.read_csv(filepath_or_buffer = \"solvent.csv\", sep = \";\")\n",
    "print(solvent_csv.shape)\n",
    "display(solvent_csv.head())"
   ]
  },
  {
   "cell_type": "code",
   "execution_count": 72,
   "metadata": {},
   "outputs": [
    {
     "name": "stdout",
     "output_type": "stream",
     "text": [
      "solventName 25\n",
      "chemicalFormula 8\n",
      "canonicalSmile 30\n",
      "casNumber 9\n",
      "productNumber 6\n",
      "supplier 7\n"
     ]
    }
   ],
   "source": [
    "for i in solvent_csv.columns:\n",
    "    print(i, max(solvent_csv[i].apply(lambda x: len(str(x)))))"
   ]
  },
  {
   "cell_type": "code",
   "execution_count": 73,
   "metadata": {},
   "outputs": [
    {
     "name": "stdout",
     "output_type": "stream",
     "text": [
      "Inserted rows:  37\n"
     ]
    }
   ],
   "source": [
    "stmt = insert(solvent)\n",
    "\n",
    "values_list = []\n",
    "total_rowcount = 0\n",
    "import csv\n",
    "with open('solvent.csv', 'r') as csvfile:\n",
    "    solvent_reader = csv.reader(csvfile, delimiter = \";\")\n",
    "    next(solvent_reader, None)  # SKIP THE HEADER\n",
    "\n",
    "    # LOOP ON EACH ROW\n",
    "    for row in solvent_reader: # WITHOUT COLUMN NAMES\n",
    "        data = {'solventName': row[0], \n",
    "                'chemicalFormula': row[1], \n",
    "                'canonicalSmile': row[2],\n",
    "                'casNumber': row[3], \n",
    "                'productNumber': row[4], \n",
    "                 'supplier': row[5]}\n",
    "        values_list.append(data)\n",
    "\n",
    "# INSERT data INTO DATABASE\n",
    "results = connection.execute(stmt, values_list)\n",
    "del(stmt, values_list, total_rowcount)\n",
    "# TOTAL ROWCOUNTs\n",
    "print(\"Inserted rows: \", results.rowcount)"
   ]
  },
  {
   "cell_type": "code",
   "execution_count": 74,
   "metadata": {},
   "outputs": [],
   "source": [
    "# # DELETE ALL ROWS\n",
    "# result = connection.execute(\"DELETE FROM solvent\")\n",
    "# print(\"Deleted rows:\", result.rowcount)\n",
    "# connection.execute(\"ALTER TABLE `solvent` AUTO_INCREMENT = 1;\") # AUTO_INCREMENT WILL START FROM 1"
   ]
  }
 ],
 "metadata": {
  "kernelspec": {
   "display_name": "Python 3",
   "language": "python",
   "name": "python3"
  },
  "language_info": {
   "codemirror_mode": {
    "name": "ipython",
    "version": 3
   },
   "file_extension": ".py",
   "mimetype": "text/x-python",
   "name": "python",
   "nbconvert_exporter": "python",
   "pygments_lexer": "ipython3",
   "version": "3.6.2"
  }
 },
 "nbformat": 4,
 "nbformat_minor": 2
}
