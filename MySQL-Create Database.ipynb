{
 "cells": [
  {
   "cell_type": "code",
   "execution_count": 16,
   "metadata": {
    "collapsed": true
   },
   "outputs": [],
   "source": [
    "from sqlalchemy import create_engine, MetaData\n",
    "from sqlalchemy import Table, Column, CHAR, Date, String, Integer, Float, DateTime, ForeignKeyConstraint\n",
    "from sqlalchemy import insert\n",
    "\n",
    "from sqlalchemy_utils import database_exists \n",
    "import datetime"
   ]
  },
  {
   "cell_type": "code",
   "execution_count": 17,
   "metadata": {
    "collapsed": true
   },
   "outputs": [],
   "source": [
    "# CONNECTING TO MYSQL\n",
    "connectionString = 'mysql+pymysql://@localhost/'\n",
    "engine = create_engine(connectionString)\n",
    "connection = engine.connect()"
   ]
  },
  {
   "cell_type": "code",
   "execution_count": 18,
   "metadata": {
    "collapsed": true
   },
   "outputs": [],
   "source": [
    "# CREATING DABASE\n",
    "dbName = \"crystaldb\"\n",
    "dbNameMain = \"\" # NAME OF THE DATABASE AFTER LOOP\n",
    "# connection.execute(\"DROP TABLE IF EXISTS \" + dbName)\n",
    "i = 1\n",
    "dbExists = True\n",
    "while dbExists:\n",
    "    if i == 4: #THERE WONT BE THAT MANY\n",
    "        break\n",
    "    dbName = dbName + \"{0}\".format(i)\n",
    "    if not database_exists(connectionString + dbName):\n",
    "        connection.execute(\"CREATE DATABASE \"+ dbName)\n",
    "        dbNameMain = dbName\n",
    "        dbExists = False\n",
    "    else:\n",
    "        i += 1\n",
    "    dbName = dbName[:-1]\n",
    "connection.close() #WE ARE CLOSING MYSQL CONNECTION, IN THE NEXT CELL WE CONNECT DIRECTLY TO NEWLY CREATED DATABASE"
   ]
  },
  {
   "cell_type": "code",
   "execution_count": 19,
   "metadata": {
    "collapsed": true
   },
   "outputs": [],
   "source": [
    "# CONNECTING TO MYSQL -> DATABASE\n",
    "connectionString = 'mysql+pymysql://@localhost/' + dbNameMain\n",
    "engine = create_engine(connectionString)\n",
    "connection = engine.connect()\n",
    "metadata = MetaData()"
   ]
  },
  {
   "cell_type": "code",
   "execution_count": 20,
   "metadata": {},
   "outputs": [
    {
     "name": "stderr",
     "output_type": "stream",
     "text": [
      "C:\\Users\\artur\\Anaconda3\\lib\\site-packages\\pymysql\\cursors.py:165: Warning: (1051, \"Unknown table 'crystaldb2.users'\")\n",
      "  result = self._query(query)\n",
      "C:\\Users\\artur\\Anaconda3\\lib\\site-packages\\pymysql\\cursors.py:165: Warning: (1051, \"Unknown table 'crystaldb2.experiment'\")\n",
      "  result = self._query(query)\n",
      "C:\\Users\\artur\\Anaconda3\\lib\\site-packages\\pymysql\\cursors.py:165: Warning: (1051, \"Unknown table 'crystaldb2.material'\")\n",
      "  result = self._query(query)\n",
      "C:\\Users\\artur\\Anaconda3\\lib\\site-packages\\pymysql\\cursors.py:165: Warning: (1051, \"Unknown table 'crystaldb2.morphology'\")\n",
      "  result = self._query(query)\n",
      "C:\\Users\\artur\\Anaconda3\\lib\\site-packages\\pymysql\\cursors.py:165: Warning: (1051, \"Unknown table 'crystaldb2.solvent'\")\n",
      "  result = self._query(query)\n",
      "C:\\Users\\artur\\Anaconda3\\lib\\site-packages\\pymysql\\cursors.py:165: Warning: (1051, \"Unknown table 'crystaldb2.measurement'\")\n",
      "  result = self._query(query)\n"
     ]
    }
   ],
   "source": [
    "tableNames_list = [\"users\", \"experiment\", \"material\", \"morphology\", \"solvent\", \"measurement\"]\n",
    "\n",
    "# DELEATING TABLES, BUT THERE WONT BE ANY TABLES, BECAUSE WE HAVE JUST CREATED THE DATABASE\n",
    "\n",
    "if not len(engine.table_names()): #NOT 0\n",
    "    for tableName_str in tableNames_list:\n",
    "        sqlDropTable = \"DROP TABLE IF EXISTS \" + tableName_str\n",
    "        connection.execute(sqlDropTable)"
   ]
  },
  {
   "cell_type": "code",
   "execution_count": 21,
   "metadata": {
    "collapsed": true
   },
   "outputs": [],
   "source": [
    "# STRING, CHAR ITP, MAYBE STICK TO ONE TYPE?\n",
    "# measurementTemp Float(3) WHY?\n",
    "# startSolutionTemp FOR EACH SOLUTION?\n",
    "# experimentID_pk WHY CHAR?"
   ]
  },
  {
   "cell_type": "code",
   "execution_count": 22,
   "metadata": {
    "collapsed": true
   },
   "outputs": [],
   "source": [
    "# DECLARING users TABLE\n",
    "users = Table(tableNames_list[0], metadata,\n",
    "              Column('userID', Integer(), primary_key=True, autoincrement = True), \n",
    "              Column('name', String(50)),\n",
    "              Column('surname', String(50)), \n",
    "              Column('email', String(50)),\n",
    "              Column('username', String(50)),\n",
    "              Column('password', String(100)), \n",
    "              Column(\"registrationDate\", DateTime, default = datetime.datetime.utcnow))"
   ]
  },
  {
   "cell_type": "code",
   "execution_count": 23,
   "metadata": {
    "collapsed": true
   },
   "outputs": [],
   "source": [
    "# DECLARING material TABLE\n",
    "material = Table(tableNames_list[2], metadata, \n",
    "                Column('materialID', Integer(), primary_key = True, autoincrement = True), \n",
    "                Column('compoundName', String(100)),\n",
    "                Column('chemicalFormula', String(50)),\n",
    "                Column('canonicalSmile', String(255)),\n",
    "                Column('type', String(50)),\n",
    "                Column('casNumber', String(50)),\n",
    "                Column('productNumber', String(50)),\n",
    "                Column('supplier', String(50)))"
   ]
  },
  {
   "cell_type": "code",
   "execution_count": 24,
   "metadata": {
    "collapsed": true
   },
   "outputs": [],
   "source": [
    "# DECLARING solvent TABLE\n",
    "solvent = Table(tableNames_list[4], metadata, \n",
    "                Column('solventID', Integer(), primary_key=True, autoincrement = True), \n",
    "                Column('solventName', String(100)),\n",
    "                Column('chemicalFormula', String(50)),\n",
    "                Column('canonicalSmile', String(255)),\n",
    "                Column('casNumber', String(50)),\n",
    "                Column('productNumber', String(50)),\n",
    "                Column('supplier', String(50)))"
   ]
  },
  {
   "cell_type": "code",
   "execution_count": 25,
   "metadata": {
    "collapsed": true
   },
   "outputs": [],
   "source": [
    "# DECLARING setup TABLE\n",
    "experiment = Table(tableNames_list[1], metadata, \n",
    "                Column('expID', Integer(), primary_key = True, autoincrement = True),\n",
    "                Column('userID', Integer()),\n",
    "                Column('experimentID', String(50)), \n",
    "                Column('expDate', Date()),\n",
    "                Column('material1', Integer()),\n",
    "                Column('material1Quantity', Integer()),\n",
    "                Column('material1QuantityUnit', String(50)),\n",
    "                Column('material2', Integer()),\n",
    "                Column('material2Quantity', Integer(), default = None),\n",
    "                Column('material2QuantityUnit', String(50), default = None),\n",
    "                Column('material3', Integer()),\n",
    "                Column('material3Quantity', Integer(), default = None),\n",
    "                Column('material3QuantityUnit', String(50), default = None),\n",
    "                Column('material4', Integer()),\n",
    "                Column('material4Quantity', Integer(), default = None),\n",
    "                Column('material4QuantityUnit', String(50), default = None),\n",
    "                Column('solvent1', Integer()),\n",
    "                Column('solvent1Quantity', Integer(), default = None),\n",
    "                Column('solvent1QuantityUnit', String(50)),\n",
    "                Column('solvent2', Integer()),\n",
    "                Column('solvent2Quantity', Integer(), default = None),\n",
    "                Column('solvent2QuantityUnit', String(50), default = None),\n",
    "                Column('solvent3', Integer()),\n",
    "                Column('solvent3Quantity', Integer(), default = None),\n",
    "                Column('solvent3QuantityUnit', String(50), default = None),\n",
    "                Column('solvent4', Integer()),\n",
    "                Column('solvent4Quantity', Integer(), default = None),\n",
    "                Column('solvent4QuantityUnit', String(50), default = None),\n",
    "                Column('startSolutionTemp', Integer()),\n",
    "                Column('crystalGrowthTemp', Integer()),\n",
    "                Column('crystallizationMethod', String(50), default = None),\n",
    "                Column('notes', String(500), default = None),\n",
    "                ForeignKeyConstraint(['userID'], ['users.userID']),\n",
    "                ForeignKeyConstraint(['material1'], ['material.materialID']),\n",
    "                ForeignKeyConstraint(['material2'], ['material.materialID']),\n",
    "                ForeignKeyConstraint(['material3'], ['material.materialID']),\n",
    "                ForeignKeyConstraint(['material4'], ['material.materialID']),\n",
    "                ForeignKeyConstraint(['solvent1'], ['solvent.solventID']),\n",
    "                ForeignKeyConstraint(['solvent2'], ['solvent.solventID']),\n",
    "                ForeignKeyConstraint(['solvent3'], ['solvent.solventID']),\n",
    "                ForeignKeyConstraint(['solvent4'], ['solvent.solventID']))"
   ]
  },
  {
   "cell_type": "code",
   "execution_count": 26,
   "metadata": {
    "collapsed": true
   },
   "outputs": [],
   "source": [
    "# DECLARING morphology TABLE\n",
    "morphology = Table(tableNames_list[3], metadata,\n",
    "                         Column('crstID', Integer(), primary_key = True, autoincrement = True),\n",
    "                         Column('expID', Integer()),\n",
    "                         Column('crystalDate', Date()),\n",
    "                         Column('crystalType', String(50)),\n",
    "                         Column('crystalShape', String(50)),\n",
    "                         Column('crystalColor', String(50)),\n",
    "                         Column('crystalSizeA', String(50)),\n",
    "                         Column('crystalSizeB', String(50)),\n",
    "                         Column('crystalSizeC', String(50)),\n",
    "                         Column('crystalMeltingTemp', Float(5)),\n",
    "                         ForeignKeyConstraint(['expID'], ['experiment.expID']))"
   ]
  },
  {
   "cell_type": "code",
   "execution_count": 27,
   "metadata": {
    "collapsed": true
   },
   "outputs": [],
   "source": [
    "# DECLARING measurement TABLE\n",
    "measurement = Table(tableNames_list[5], metadata, \n",
    "                Column('measrID', Integer(), primary_key = True, autoincrement = True),\n",
    "                Column('expID', Integer()),\n",
    "                Column('measurementID', String(50)),\n",
    "                Column('crstID', Integer()),\n",
    "                Column('measrDate', Date()),\n",
    "                Column('spaceGroup', String(50)),\n",
    "                Column('assymUnitComposition', String(50)),\n",
    "                Column('canonicalSmileCrystalComp', String(50)),\n",
    "                Column('measurementTemp', Float(5)),\n",
    "                Column('cellLengthA', Float(5)),\n",
    "                Column('cellLengthB', Float(5)),\n",
    "                Column('cellLengthC', Float(5)),\n",
    "                Column('cellAngleAlpha', Float(5)),\n",
    "                Column('cellAngleBeta', Float(5)),\n",
    "                Column('cellAngleGamma', Float(5)),\n",
    "                Column('cellVolume', Float(5)),\n",
    "                Column('diffMeasurementDevice', String(50)),\n",
    "                ForeignKeyConstraint(['expID'], ['experiment.expID']),\n",
    "                ForeignKeyConstraint(['crstID'], ['morphology.crstID']))"
   ]
  },
  {
   "cell_type": "code",
   "execution_count": 28,
   "metadata": {
    "collapsed": true
   },
   "outputs": [],
   "source": [
    "# CREATING all TABLES\n",
    "metadata.create_all(engine)"
   ]
  },
  {
   "cell_type": "code",
   "execution_count": 29,
   "metadata": {
    "collapsed": true
   },
   "outputs": [],
   "source": [
    "# for tableName in tableNames_list:\n",
    "#     try:\n",
    "#         print(repr(metadata.tables[tableName]))\n",
    "#     except:\n",
    "#         print(\"Table:\", tableName, \"don't exist\")\n",
    "#     print(\"\")"
   ]
  },
  {
   "cell_type": "code",
   "execution_count": 30,
   "metadata": {
    "collapsed": true
   },
   "outputs": [],
   "source": [
    "# CLOSING CONNECTION\n",
    "connection.close()"
   ]
  }
 ],
 "metadata": {
  "anaconda-cloud": {},
  "kernelspec": {
   "display_name": "Python 3",
   "language": "python",
   "name": "python3"
  },
  "language_info": {
   "codemirror_mode": {
    "name": "ipython",
    "version": 3
   },
   "file_extension": ".py",
   "mimetype": "text/x-python",
   "name": "python",
   "nbconvert_exporter": "python",
   "pygments_lexer": "ipython3",
   "version": "3.6.2"
  }
 },
 "nbformat": 4,
 "nbformat_minor": 2
}
